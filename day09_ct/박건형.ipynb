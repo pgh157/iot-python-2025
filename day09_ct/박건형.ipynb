{
 "cells": [
  {
   "cell_type": "markdown",
   "metadata": {},
   "source": [
    "#### 1번\n",
    "##### 반지름 값을 입력받아 원의 넓이를 구하여 출력하는 프로그램을 구현하세요. π는 3.141592 입니다. 내부 모듈을 사용하여도 됩니다.  "
   ]
  },
  {
   "cell_type": "code",
   "execution_count": null,
   "metadata": {},
   "outputs": [],
   "source": [
    "\n",
    "import math\n",
    "num = float(input(\"반지름을 입력하세요> \"))\n",
    "circle = math.pi*(num**2)\n",
    "\n",
    "print(math.pi)\n",
    "print(circle)"
   ]
  },
  {
   "cell_type": "markdown",
   "metadata": {},
   "source": [
    "#### 2번\n",
    "##### 영문이름을 입력하면 웹사이트 주소가 리턴되는 함수, get_url() 를  구현하세요."
   ]
  },
  {
   "cell_type": "code",
   "execution_count": 22,
   "metadata": {},
   "outputs": [
    {
     "name": "stdout",
     "output_type": "stream",
     "text": [
      "한글 빼서 다시 입력\n"
     ]
    }
   ],
   "source": [
    "\n",
    "import re\n",
    "def check_kor(text):\n",
    "    p = re.compile('[ㄱ-힣]')\n",
    "    r = p.search(text)\n",
    "    if r is None:\n",
    "        return False\n",
    "    else:\n",
    "        return True\n",
    "\n",
    "\n",
    "def get_url(a):\n",
    "    if a.isalpha():\n",
    "        if check_kor(a):\n",
    "            return \"한글 빼서 다시 입력\"\n",
    "        else:\n",
    "            return f\"www.{a}.com\"\n",
    "    else:\n",
    "        return \"영문 숫자만 다시 입력\"\n",
    "\n",
    "url =get_url(input(\"주소 입력(영문 이름)> \"))\n",
    "print(url)"
   ]
  },
  {
   "cell_type": "markdown",
   "metadata": {},
   "source": [
    "#### 3.  구구단을 수행할 단번호를 입력하면 그 단의 9까지의 결과를 나열하는 프로그램을 입력하세요.\n",
    "##### 예) 3 --> 3 6 9 12 15 18 21 24 27"
   ]
  },
  {
   "cell_type": "code",
   "execution_count": 27,
   "metadata": {},
   "outputs": [
    {
     "name": "stdout",
     "output_type": "stream",
     "text": [
      "2 --> 2 4 6 8 10 12 14 16 18 "
     ]
    }
   ],
   "source": [
    "num = int(input(\"구구단을 수행할 단번호를 입력하세요.> \"))\n",
    "print(f\"{num} -->\", end=\" \")\n",
    "for x in range(1,10):\n",
    "    print(f\"{num*x}\", end=\" \")\n"
   ]
  },
  {
   "cell_type": "markdown",
   "metadata": {},
   "source": [
    "#### 4.  입력한 수를 거꾸로 출력하는 프로그램을 구현하세요.\n",
    "##### 예) 1 3 5 7 9 --> 9 7 5 3 1"
   ]
  },
  {
   "cell_type": "code",
   "execution_count": 38,
   "metadata": {},
   "outputs": [
    {
     "name": "stdout",
     "output_type": "stream",
     "text": [
      "1 2 3  -->  3 2 1 "
     ]
    }
   ],
   "source": [
    "lst = [int(x) for x in input().split()]\n",
    "for x in lst:    \n",
    "    print(x, end= \" \")\n",
    "print(\" --> \", end=\" \")\n",
    "lst.reverse()\n",
    "for x in lst:    \n",
    "    print(x, end= \" \")"
   ]
  },
  {
   "cell_type": "markdown",
   "metadata": {},
   "source": [
    "#### 5. SmartPhone 이라는 클래스를 만들고, 객체를 생성해서 phoneOwner, phoneNumber, company 등의 멤버변수(속성)을 가지도록 만드세요.(본인이 다른 기능을 좀 더 추가하여도 무방합니다)"
   ]
  },
  {
   "cell_type": "code",
   "execution_count": null,
   "metadata": {},
   "outputs": [],
   "source": [
    "class SmartPhone:\n",
    "    def __init__(self, phoneOwner=None, phoneNumber=None, company=None, addres = None):\n",
    "        self.__phoneOwner= phoneOwner\n",
    "        self.__phoneNumber=company\n",
    "        self.__company=company\n",
    "        self.__addres=addres\n",
    "    def __str__(self):  \n",
    "        str_res = (f\"폰 주인 이름: {self.__phoneOwner}\\n\"\n",
    "                   f\"폰 번호: {self.__phoneNumber}\\n\"\n",
    "                   f\"통신사: {self.__company}\\n\"\n",
    "                   f\"폰 주인 주소: {self.__addres}\")\n",
    "        return str_res\n",
    "    \n",
    "    # 찾는 이름이 포함되어 있으면 True\n",
    "    def isNameContain(self, name):\n",
    "        if name in self.__phoneOwner or name in self.__phoneNumber or name in self.__company or name in self.__addres : \n",
    "            return True\n",
    "        else:\n",
    "            return False\n",
    "\n",
    "    # 찾는 이름이 완벽하게 일치하면 True    \n",
    "    def isNameExist(self, name):\n",
    "        if self.__phoneOwner == name or self.__phoneNumber == name or self.__company == name or self.__addres == name:\n",
    "            return True\n",
    "        else:\n",
    "            return False\n",
    "        \n",
    "    # 변수 값 가져오기 getter 함수\n",
    "    def get_phoneOwner(self):\n",
    "        return self.__phoneOwner\n",
    "    \n",
    "    def get_phoneNumber(self):\n",
    "        return self.__phoneNumber\n",
    "    \n",
    "    def get_Company(self):\n",
    "        return self.__company\n",
    "    \n",
    "    def get_addres(self):\n",
    "        return self.__addres\n",
    "    \n",
    "\n",
    "def run():\n",
    "    \n",
    "    lst_phone = [] \n",
    "    load_phone(lst_phone)\n",
    "    while True:\n",
    "        sel_menu = set_menu()\n",
    "        if sel_menu== 1:\n",
    "            print(\"------------\")\n",
    "            try:\n",
    "\n",
    "                phone = set_phone()\n",
    "                lst_phone.append(phone)\n",
    "                print(\"연락처 입력 성공!!\")\n",
    "            except Exception as e:\n",
    "                print(f\"연락처 입력 실패!! {e}\")\n",
    "\n",
    "        elif sel_menu == 2:\n",
    "            print(\"-------------\")\n",
    "            print(\"연락처 출력\")\n",
    "            print(\"-------------\")\n",
    "            get_phone(lst_phone)\n",
    "\n",
    "        elif sel_menu == 3:\n",
    "            print(\"-------------\")\n",
    "            print(\"연락처 검색\")\n",
    "            print(\"-------------\")\n",
    "            pp = input(\"검색할 연락처 (이름, 번호, 통신사, 주소)   > \")\n",
    "            search_phone(lst_phone, pp)\n",
    "                    \n",
    "\n",
    "        elif sel_menu == 4:\n",
    "            print(\"-------------\")\n",
    "            print(\"연락처 삭제\")\n",
    "            print(\"-------------\")\n",
    "            qq = input(\"삭제할 연락처 입력 > \")\n",
    "            del_phone(lst_phone, qq)\n",
    "\n",
    "        elif sel_menu == 5:\n",
    "            save_phone(lst_phone)\n",
    "            break # 반복문 탈출.\n",
    "        else:\n",
    "            pass             \n",
    "        input() # 입력대기 : 엔터치면 넘어감   \n",
    "           \n",
    "def search_phone(items: list, pp: str):\n",
    "    count = 0\n",
    "    for item in items: \n",
    "        if item.isNameContain(pp): \n",
    "            count += 1 # 검색된 결과가 있음\n",
    "            print(item)\n",
    "            print(\"-------------\") #  구분자\n",
    "    print(f\"검색 데이터 수 : {count}개\")\n",
    "    \n",
    "\n",
    "def del_phone(items: list, qq: str):\n",
    " \n",
    "    for i, item in enumerate(items): # 인덱스번호 출력\n",
    "        if item.isNameExist(qq):\n",
    "            del items[i] # 인덱스로 리스트에 요소하나를 삭제\n",
    "            print(\"연락처 삭제 성공!!\")\n",
    "        else:\n",
    "            print(\"연락처 삭제 실패!!\")\n",
    "\n",
    "        \n",
    "\n",
    "\n",
    "# 폴더에 파일로 연락처리스트 저장\n",
    "def save_phone(items: list):\n",
    "    f = open(\"phone_db.txt\", encoding=\"utf-8\", mode=\"w\") # 파일쓰기로 오픈\n",
    "    for item in items:\n",
    "        f.write(f\"{item.get_phoneOwner()}|\")\n",
    "        f.write(f\"{item.get_phoneNumber()}|\")\n",
    "        f.write(f\"{item.get_Company()}|\")\n",
    "        f.write(f\"{item.get_addres()}\\n\")\n",
    "    \n",
    "    f.close()\n",
    "\n",
    "def load_phone(items: list):\n",
    "    f = open(\"phone_db.txt\", encoding=\"utf-8\", mode=\"r\") # 파일쓰기로 오픈\n",
    "    while True:\n",
    "        line = f.readline().replace('\\n', '') \n",
    "        if not line: break # 무한루프 빠져나가는 조건\n",
    "        lines = line.split(\"|\") # 구분자로 잘라서 네개의 요소의 리스트 생성\n",
    "        phoneOwner = lines[0]\n",
    "        phoneNumber = lines[1]\n",
    "        company = lines[2]\n",
    "        addres = lines[3]  \n",
    "\n",
    "        phone = SmartPhone(phoneOwner, phoneNumber, company, addres)\n",
    "        items.append(phone)\n",
    "\n",
    "    f.close()    \n",
    "\n",
    "def set_phone():\n",
    "    phoneOwner, phoneNumber, company, addres = input(\"연락처 입력 [이름|번호|통신사|주소] > \").split(\"|\") # 입력 중 발생하는 예외\n",
    "    phone = SmartPhone(phoneOwner = phoneOwner, phoneNumber = phoneNumber, company=company, addres = addres) # 데이터형 예외\n",
    "    return phone\n",
    "\n",
    "def get_phone(items: list):   \n",
    "    for item in items:\n",
    "        print(item)  \n",
    "        print(\"-------------\") \n",
    "    print(f\"총 데이터수 : {len(items)}개\")\n",
    "\n",
    "\n",
    "def set_menu():\n",
    "    str_menu = (f\"--연락처-- \\n\"\n",
    "                \"1. 연락처 입력\\n\"\n",
    "                \"2. 연락처 출력\\n\"\n",
    "                \"3. 연락처 검색\\n\"\n",
    "                \"4. 연락처 삭제\\n\"\n",
    "                \"5. 앱 종료\\n\")\n",
    "    print(str_menu)\n",
    "    try:\n",
    "        sel_menu = int(input(\"메뉴 번호 입력: \"))  \n",
    "    except Exception as e:\n",
    "        sel_menu = 0\n",
    "    return sel_menu\n",
    "\n",
    "\n",
    "if __name__ == \"__main__\":\n",
    "    run()\n",
    "\n",
    "print(\"프로그램 종료\")\n",
    "\n",
    "    "
   ]
  }
 ],
 "metadata": {
  "kernelspec": {
   "display_name": "Python 3",
   "language": "python",
   "name": "python3"
  },
  "language_info": {
   "codemirror_mode": {
    "name": "ipython",
    "version": 3
   },
   "file_extension": ".py",
   "mimetype": "text/x-python",
   "name": "python",
   "nbconvert_exporter": "python",
   "pygments_lexer": "ipython3",
   "version": "3.11.9"
  }
 },
 "nbformat": 4,
 "nbformat_minor": 2
}
